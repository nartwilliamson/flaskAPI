{
 "cells": [
  {
   "cell_type": "code",
   "execution_count": 1,
   "metadata": {},
   "outputs": [],
   "source": [
    "from flask import Flask, request, render_template, session, redirect, jsonify\n",
    "import numpy as np\n",
    "import pandas as pd\n"
   ]
  },
  {
   "cell_type": "code",
   "execution_count": 2,
   "metadata": {},
   "outputs": [],
   "source": [
    "from tiingo import TiingoClient\n",
    "import quandl\n",
    "\n",
    "quandlAuthToken = \"uUfmVoEksfwWxMA4tQcd\"\n",
    "\n",
    "config = {}\n",
    "\n",
    "# To reuse the same HTTP Session across API calls (and have better performance), include a session key.\n",
    "config['session'] = True\n",
    "\n",
    "# If you don't have your API key as an environment variable,\n",
    "# pass it in via a configuration dictionary.\n",
    "config['api_key'] = \"a5e87637752491cca8c3a282688dbe81f7243561\"\n",
    "\n",
    "#quandl uUfmVoEksfwWxMA4tQcd\n",
    "# Initialize\n",
    "client = TiingoClient(config)\n",
    "\n",
    "app = Flask(__name__)\n",
    "\n",
    "\n",
    "df = pd.DataFrame({'A': [0, 1, 2, 3, 4],\n",
    "                   'B': [5, 6, 7, 8, 9],\n",
    "                   'C': ['a', 'b', 'c--', 'd', 'e']})\n",
    "\n",
    "\n",
    "#QUANDL OIL FUTURES\n",
    "\n",
    "cl1 = quandl.get(\"CHRIS/CME_CL1\", authtoken=quandlAuthToken)\n",
    "\n",
    "dataCSV = pd.read_csv('heatmap_data3.csv') \n",
    "\n",
    "ticker_history = client.get_dataframe(['SPY'],\n",
    "                                      frequency='daily',\n",
    "                                      metric_name='adjClose',\n",
    "                                      startDate='2017-01-01',\n",
    "                                      endDate='2018-05-31')"
   ]
  },
  {
   "cell_type": "code",
   "execution_count": null,
   "metadata": {},
   "outputs": [],
   "source": []
  }
 ],
 "metadata": {
  "kernelspec": {
   "display_name": "Python 3",
   "language": "python",
   "name": "python3"
  },
  "language_info": {
   "codemirror_mode": {
    "name": "ipython",
    "version": 3
   },
   "file_extension": ".py",
   "mimetype": "text/x-python",
   "name": "python",
   "nbconvert_exporter": "python",
   "pygments_lexer": "ipython3",
   "version": "3.6.9"
  }
 },
 "nbformat": 4,
 "nbformat_minor": 2
}
